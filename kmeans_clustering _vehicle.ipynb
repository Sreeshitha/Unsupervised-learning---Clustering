{
 "cells": [
  {
   "cell_type": "markdown",
   "metadata": {
    "colab_type": "text",
    "id": "qu_OG92m_frE"
   },
   "source": [
    "### The data set has information about features of silhouette extracted from the images of different cars\n",
    "\n",
    "Four \"Corgie\" model vehicles were used for the experiment: a double decker bus, Cheverolet van, Saab 9000 and an Opel Manta 400 cars. This particular combination of vehicles was chosen with the expectation that the bus, van and either one of the cars would be readily distinguishable, but it would be more difficult to distinguish between the cars.\n",
    "\n"
   ]
  },
  {
   "cell_type": "code",
   "execution_count": 6,
   "metadata": {},
   "outputs": [],
   "source": [
    "import numpy as np\n",
    "import pandas as pd\n",
    "import seaborn as sns\n",
    "import matplotlib.pyplot as plt\n",
    "\n",
    "# to suppress warnings \n",
    "from warnings import filterwarnings\n",
    "filterwarnings('ignore')\n",
    "\n",
    "# display all columns of the dataframe\n",
    "pd.options.display.max_columns = None\n",
    "\n",
    "# display all rows of the dataframe\n",
    "pd.options.display.max_rows = None\n",
    "\n",
    "# to display the float values upto 6 decimal places     \n",
    "pd.options.display.float_format = '{:.5f}'.format\n",
    "\n",
    "import seaborn as sns"
   ]
  },
  {
   "cell_type": "markdown",
   "metadata": {
    "colab_type": "text",
    "id": "h2Vv5KVp_frG"
   },
   "source": [
    "### 1. Read the dataset using function .dropna() - to avoid dealing with NAs as of now"
   ]
  },
  {
   "cell_type": "code",
   "execution_count": 2,
   "metadata": {
    "colab": {},
    "colab_type": "code",
    "id": "CB0MG7S7_frW",
    "outputId": "cf98a031-e018-4cf2-d0b2-99aeaf34cd64"
   },
   "outputs": [
    {
     "data": {
      "text/html": [
       "<div>\n",
       "<style scoped>\n",
       "    .dataframe tbody tr th:only-of-type {\n",
       "        vertical-align: middle;\n",
       "    }\n",
       "\n",
       "    .dataframe tbody tr th {\n",
       "        vertical-align: top;\n",
       "    }\n",
       "\n",
       "    .dataframe thead th {\n",
       "        text-align: right;\n",
       "    }\n",
       "</style>\n",
       "<table border=\"1\" class=\"dataframe\">\n",
       "  <thead>\n",
       "    <tr style=\"text-align: right;\">\n",
       "      <th></th>\n",
       "      <th>compactness</th>\n",
       "      <th>circularity</th>\n",
       "      <th>distance_circularity</th>\n",
       "      <th>radius_ratio</th>\n",
       "      <th>pr.axis_aspect_ratio</th>\n",
       "      <th>max.length_aspect_ratio</th>\n",
       "      <th>scatter_ratio</th>\n",
       "      <th>elongatedness</th>\n",
       "      <th>pr.axis_rectangularity</th>\n",
       "      <th>max.length_rectangularity</th>\n",
       "      <th>scaled_variance</th>\n",
       "      <th>scaled_variance.1</th>\n",
       "      <th>scaled_radius_of_gyration</th>\n",
       "      <th>scaled_radius_of_gyration.1</th>\n",
       "      <th>skewness_about</th>\n",
       "      <th>skewness_about.1</th>\n",
       "      <th>skewness_about.2</th>\n",
       "      <th>hollows_ratio</th>\n",
       "      <th>class</th>\n",
       "    </tr>\n",
       "  </thead>\n",
       "  <tbody>\n",
       "    <tr>\n",
       "      <th>0</th>\n",
       "      <td>95</td>\n",
       "      <td>48.00000</td>\n",
       "      <td>83.00000</td>\n",
       "      <td>178.00000</td>\n",
       "      <td>72.00000</td>\n",
       "      <td>10</td>\n",
       "      <td>162.00000</td>\n",
       "      <td>42.00000</td>\n",
       "      <td>20.00000</td>\n",
       "      <td>159</td>\n",
       "      <td>176.00000</td>\n",
       "      <td>379.00000</td>\n",
       "      <td>184.00000</td>\n",
       "      <td>70.00000</td>\n",
       "      <td>6.00000</td>\n",
       "      <td>16.00000</td>\n",
       "      <td>187.00000</td>\n",
       "      <td>197</td>\n",
       "      <td>van</td>\n",
       "    </tr>\n",
       "    <tr>\n",
       "      <th>1</th>\n",
       "      <td>91</td>\n",
       "      <td>41.00000</td>\n",
       "      <td>84.00000</td>\n",
       "      <td>141.00000</td>\n",
       "      <td>57.00000</td>\n",
       "      <td>9</td>\n",
       "      <td>149.00000</td>\n",
       "      <td>45.00000</td>\n",
       "      <td>19.00000</td>\n",
       "      <td>143</td>\n",
       "      <td>170.00000</td>\n",
       "      <td>330.00000</td>\n",
       "      <td>158.00000</td>\n",
       "      <td>72.00000</td>\n",
       "      <td>9.00000</td>\n",
       "      <td>14.00000</td>\n",
       "      <td>189.00000</td>\n",
       "      <td>199</td>\n",
       "      <td>van</td>\n",
       "    </tr>\n",
       "    <tr>\n",
       "      <th>2</th>\n",
       "      <td>104</td>\n",
       "      <td>50.00000</td>\n",
       "      <td>106.00000</td>\n",
       "      <td>209.00000</td>\n",
       "      <td>66.00000</td>\n",
       "      <td>10</td>\n",
       "      <td>207.00000</td>\n",
       "      <td>32.00000</td>\n",
       "      <td>23.00000</td>\n",
       "      <td>158</td>\n",
       "      <td>223.00000</td>\n",
       "      <td>635.00000</td>\n",
       "      <td>220.00000</td>\n",
       "      <td>73.00000</td>\n",
       "      <td>14.00000</td>\n",
       "      <td>9.00000</td>\n",
       "      <td>188.00000</td>\n",
       "      <td>196</td>\n",
       "      <td>car</td>\n",
       "    </tr>\n",
       "    <tr>\n",
       "      <th>3</th>\n",
       "      <td>93</td>\n",
       "      <td>41.00000</td>\n",
       "      <td>82.00000</td>\n",
       "      <td>159.00000</td>\n",
       "      <td>63.00000</td>\n",
       "      <td>9</td>\n",
       "      <td>144.00000</td>\n",
       "      <td>46.00000</td>\n",
       "      <td>19.00000</td>\n",
       "      <td>143</td>\n",
       "      <td>160.00000</td>\n",
       "      <td>309.00000</td>\n",
       "      <td>127.00000</td>\n",
       "      <td>63.00000</td>\n",
       "      <td>6.00000</td>\n",
       "      <td>10.00000</td>\n",
       "      <td>199.00000</td>\n",
       "      <td>207</td>\n",
       "      <td>van</td>\n",
       "    </tr>\n",
       "    <tr>\n",
       "      <th>4</th>\n",
       "      <td>85</td>\n",
       "      <td>44.00000</td>\n",
       "      <td>70.00000</td>\n",
       "      <td>205.00000</td>\n",
       "      <td>103.00000</td>\n",
       "      <td>52</td>\n",
       "      <td>149.00000</td>\n",
       "      <td>45.00000</td>\n",
       "      <td>19.00000</td>\n",
       "      <td>144</td>\n",
       "      <td>241.00000</td>\n",
       "      <td>325.00000</td>\n",
       "      <td>188.00000</td>\n",
       "      <td>127.00000</td>\n",
       "      <td>9.00000</td>\n",
       "      <td>11.00000</td>\n",
       "      <td>180.00000</td>\n",
       "      <td>183</td>\n",
       "      <td>bus</td>\n",
       "    </tr>\n",
       "  </tbody>\n",
       "</table>\n",
       "</div>"
      ],
      "text/plain": [
       "   compactness  circularity  distance_circularity  radius_ratio  \\\n",
       "0           95     48.00000              83.00000     178.00000   \n",
       "1           91     41.00000              84.00000     141.00000   \n",
       "2          104     50.00000             106.00000     209.00000   \n",
       "3           93     41.00000              82.00000     159.00000   \n",
       "4           85     44.00000              70.00000     205.00000   \n",
       "\n",
       "   pr.axis_aspect_ratio  max.length_aspect_ratio  scatter_ratio  \\\n",
       "0              72.00000                       10      162.00000   \n",
       "1              57.00000                        9      149.00000   \n",
       "2              66.00000                       10      207.00000   \n",
       "3              63.00000                        9      144.00000   \n",
       "4             103.00000                       52      149.00000   \n",
       "\n",
       "   elongatedness  pr.axis_rectangularity  max.length_rectangularity  \\\n",
       "0       42.00000                20.00000                        159   \n",
       "1       45.00000                19.00000                        143   \n",
       "2       32.00000                23.00000                        158   \n",
       "3       46.00000                19.00000                        143   \n",
       "4       45.00000                19.00000                        144   \n",
       "\n",
       "   scaled_variance  scaled_variance.1  scaled_radius_of_gyration  \\\n",
       "0        176.00000          379.00000                  184.00000   \n",
       "1        170.00000          330.00000                  158.00000   \n",
       "2        223.00000          635.00000                  220.00000   \n",
       "3        160.00000          309.00000                  127.00000   \n",
       "4        241.00000          325.00000                  188.00000   \n",
       "\n",
       "   scaled_radius_of_gyration.1  skewness_about  skewness_about.1  \\\n",
       "0                     70.00000         6.00000          16.00000   \n",
       "1                     72.00000         9.00000          14.00000   \n",
       "2                     73.00000        14.00000           9.00000   \n",
       "3                     63.00000         6.00000          10.00000   \n",
       "4                    127.00000         9.00000          11.00000   \n",
       "\n",
       "   skewness_about.2  hollows_ratio class  \n",
       "0         187.00000            197   van  \n",
       "1         189.00000            199   van  \n",
       "2         188.00000            196   car  \n",
       "3         199.00000            207   van  \n",
       "4         180.00000            183   bus  "
      ]
     },
     "execution_count": 2,
     "metadata": {},
     "output_type": "execute_result"
    }
   ],
   "source": [
    "df = pd.read_csv('vehicle.csv').dropna()\n",
    "df.head()"
   ]
  },
  {
   "cell_type": "code",
   "execution_count": 4,
   "metadata": {},
   "outputs": [
    {
     "name": "stdout",
     "output_type": "stream",
     "text": [
      "<class 'pandas.core.frame.DataFrame'>\n",
      "Int64Index: 813 entries, 0 to 845\n",
      "Data columns (total 19 columns):\n",
      " #   Column                       Non-Null Count  Dtype  \n",
      "---  ------                       --------------  -----  \n",
      " 0   compactness                  813 non-null    int64  \n",
      " 1   circularity                  813 non-null    float64\n",
      " 2   distance_circularity         813 non-null    float64\n",
      " 3   radius_ratio                 813 non-null    float64\n",
      " 4   pr.axis_aspect_ratio         813 non-null    float64\n",
      " 5   max.length_aspect_ratio      813 non-null    int64  \n",
      " 6   scatter_ratio                813 non-null    float64\n",
      " 7   elongatedness                813 non-null    float64\n",
      " 8   pr.axis_rectangularity       813 non-null    float64\n",
      " 9   max.length_rectangularity    813 non-null    int64  \n",
      " 10  scaled_variance              813 non-null    float64\n",
      " 11  scaled_variance.1            813 non-null    float64\n",
      " 12  scaled_radius_of_gyration    813 non-null    float64\n",
      " 13  scaled_radius_of_gyration.1  813 non-null    float64\n",
      " 14  skewness_about               813 non-null    float64\n",
      " 15  skewness_about.1             813 non-null    float64\n",
      " 16  skewness_about.2             813 non-null    float64\n",
      " 17  hollows_ratio                813 non-null    int64  \n",
      " 18  class                        813 non-null    object \n",
      "dtypes: float64(14), int64(4), object(1)\n",
      "memory usage: 127.0+ KB\n"
     ]
    }
   ],
   "source": [
    "df.info()"
   ]
  },
  {
   "cell_type": "markdown",
   "metadata": {
    "colab_type": "text",
    "id": "GoxTqSl__fra"
   },
   "source": [
    "### 2. Print/ Plot the dependent (categorical variable) - Class column"
   ]
  },
  {
   "cell_type": "markdown",
   "metadata": {
    "colab_type": "text",
    "id": "Aj4R9dfr_frb"
   },
   "source": [
    "Since the variable is categorical, you can use value_counts function"
   ]
  },
  {
   "cell_type": "code",
   "execution_count": 9,
   "metadata": {
    "colab": {},
    "colab_type": "code",
    "id": "4jFodExI_frk",
    "outputId": "86647032-fd4e-45eb-f328-b1e0921641df"
   },
   "outputs": [
    {
     "data": {
      "image/png": "[encoded data removed]",
      "text/plain": [
       "<Figure size 432x288 with 1 Axes>"
      ]
     },
     "metadata": {
      "needs_background": "light"
     },
     "output_type": "display_data"
    }
   ],
   "source": [
    "fig = sns.countplot(df['class'], order = df['class'].value_counts().index, palette=(\"plasma\"))\n",
    "for p in fig.patches:\n",
    "    fig.annotate(p.get_height(),(p.get_x()+0.2, p.get_height()+1))\n",
    "plt.show()"
   ]
  },
  {
   "cell_type": "markdown",
   "metadata": {
    "colab_type": "text",
    "id": "j7dHDxSN_frp"
   },
   "source": [
    "### 3. Check for any missing values in the data "
   ]
  },
  {
   "cell_type": "code",
   "execution_count": 10,
   "metadata": {
    "colab": {},
    "colab_type": "code",
    "id": "HEQTd1bc_frr",
    "outputId": "2da786d3-7e91-4a26-cbca-25b36cf1dbe7"
   },
   "outputs": [
    {
     "data": {
      "text/plain": [
       "compactness                    0\n",
       "circularity                    0\n",
       "distance_circularity           0\n",
       "radius_ratio                   0\n",
       "pr.axis_aspect_ratio           0\n",
       "max.length_aspect_ratio        0\n",
       "scatter_ratio                  0\n",
       "elongatedness                  0\n",
       "pr.axis_rectangularity         0\n",
       "max.length_rectangularity      0\n",
       "scaled_variance                0\n",
       "scaled_variance.1              0\n",
       "scaled_radius_of_gyration      0\n",
       "scaled_radius_of_gyration.1    0\n",
       "skewness_about                 0\n",
       "skewness_about.1               0\n",
       "skewness_about.2               0\n",
       "hollows_ratio                  0\n",
       "class                          0\n",
       "dtype: int64"
      ]
     },
     "execution_count": 10,
     "metadata": {},
     "output_type": "execute_result"
    }
   ],
   "source": [
    "df.isnull().sum()"
   ]
  },
  {
   "cell_type": "code",
   "execution_count": 11,
   "metadata": {},
   "outputs": [],
   "source": [
    "#### There are no missing values in the data"
   ]
  },
  {
   "cell_type": "markdown",
   "metadata": {
    "colab_type": "text",
    "id": "uOF7TxwQ_frt"
   },
   "source": [
    "### 4. Standardize the data "
   ]
  },
  {
   "cell_type": "markdown",
   "metadata": {
    "colab_type": "text",
    "id": "6kIiPrxN_frv"
   },
   "source": [
    "Since the dimensions of the data are not really known to us, it would be wise to standardize the data using z scores before we go for any clustering methods.\n",
    "You can use zscore function to do this"
   ]
  },
  {
   "cell_type": "code",
   "execution_count": 13,
   "metadata": {
    "colab": {},
    "colab_type": "code",
    "id": "QvHHOVa7_fr_",
    "outputId": "25595edf-5f4c-4948-93dd-5466fdc613fb"
   },
   "outputs": [],
   "source": [
    "from sklearn.preprocessing import StandardScaler\n",
    "sc = StandardScaler()"
   ]
  },
  {
   "cell_type": "code",
   "execution_count": 15,
   "metadata": {},
   "outputs": [
    {
     "data": {
      "text/html": [
       "<div>\n",
       "<style scoped>\n",
       "    .dataframe tbody tr th:only-of-type {\n",
       "        vertical-align: middle;\n",
       "    }\n",
       "\n",
       "    .dataframe tbody tr th {\n",
       "        vertical-align: top;\n",
       "    }\n",
       "\n",
       "    .dataframe thead th {\n",
       "        text-align: right;\n",
       "    }\n",
       "</style>\n",
       "<table border=\"1\" class=\"dataframe\">\n",
       "  <thead>\n",
       "    <tr style=\"text-align: right;\">\n",
       "      <th></th>\n",
       "      <th>compactness</th>\n",
       "      <th>circularity</th>\n",
       "      <th>distance_circularity</th>\n",
       "      <th>radius_ratio</th>\n",
       "      <th>pr.axis_aspect_ratio</th>\n",
       "      <th>max.length_aspect_ratio</th>\n",
       "      <th>scatter_ratio</th>\n",
       "      <th>elongatedness</th>\n",
       "      <th>pr.axis_rectangularity</th>\n",
       "      <th>max.length_rectangularity</th>\n",
       "      <th>scaled_variance</th>\n",
       "      <th>scaled_variance.1</th>\n",
       "      <th>scaled_radius_of_gyration</th>\n",
       "      <th>scaled_radius_of_gyration.1</th>\n",
       "      <th>skewness_about</th>\n",
       "      <th>skewness_about.1</th>\n",
       "      <th>skewness_about.2</th>\n",
       "      <th>hollows_ratio</th>\n",
       "    </tr>\n",
       "  </thead>\n",
       "  <tbody>\n",
       "    <tr>\n",
       "      <th>0</th>\n",
       "      <td>0.16323</td>\n",
       "      <td>0.52041</td>\n",
       "      <td>0.06067</td>\n",
       "      <td>0.26497</td>\n",
       "      <td>1.28325</td>\n",
       "      <td>0.29972</td>\n",
       "      <td>-0.19852</td>\n",
       "      <td>0.12965</td>\n",
       "      <td>-0.21715</td>\n",
       "      <td>0.76631</td>\n",
       "      <td>-0.39740</td>\n",
       "      <td>-0.33901</td>\n",
       "      <td>0.30168</td>\n",
       "      <td>-0.32119</td>\n",
       "      <td>-0.07152</td>\n",
       "      <td>0.37129</td>\n",
       "      <td>-0.32181</td>\n",
       "      <td>0.17184</td>\n",
       "    </tr>\n",
       "    <tr>\n",
       "      <th>1</th>\n",
       "      <td>-0.32287</td>\n",
       "      <td>-0.61912</td>\n",
       "      <td>0.12407</td>\n",
       "      <td>-0.83639</td>\n",
       "      <td>-0.59925</td>\n",
       "      <td>0.08578</td>\n",
       "      <td>-0.59172</td>\n",
       "      <td>0.51433</td>\n",
       "      <td>-0.60601</td>\n",
       "      <td>-0.33746</td>\n",
       "      <td>-0.59003</td>\n",
       "      <td>-0.61875</td>\n",
       "      <td>-0.50297</td>\n",
       "      <td>-0.05350</td>\n",
       "      <td>0.53843</td>\n",
       "      <td>0.14711</td>\n",
       "      <td>0.00340</td>\n",
       "      <td>0.44232</td>\n",
       "    </tr>\n",
       "    <tr>\n",
       "      <th>2</th>\n",
       "      <td>1.25697</td>\n",
       "      <td>0.84599</td>\n",
       "      <td>1.51882</td>\n",
       "      <td>1.18773</td>\n",
       "      <td>0.53025</td>\n",
       "      <td>0.29972</td>\n",
       "      <td>1.16257</td>\n",
       "      <td>-1.15264</td>\n",
       "      <td>0.94944</td>\n",
       "      <td>0.69733</td>\n",
       "      <td>1.11159</td>\n",
       "      <td>1.12249</td>\n",
       "      <td>1.41580</td>\n",
       "      <td>0.08034</td>\n",
       "      <td>1.55501</td>\n",
       "      <td>-0.41334</td>\n",
       "      <td>-0.15920</td>\n",
       "      <td>0.03660</td>\n",
       "    </tr>\n",
       "    <tr>\n",
       "      <th>3</th>\n",
       "      <td>-0.07982</td>\n",
       "      <td>-0.61912</td>\n",
       "      <td>-0.00273</td>\n",
       "      <td>-0.30059</td>\n",
       "      <td>0.15375</td>\n",
       "      <td>0.08578</td>\n",
       "      <td>-0.74295</td>\n",
       "      <td>0.64256</td>\n",
       "      <td>-0.60601</td>\n",
       "      <td>-0.33746</td>\n",
       "      <td>-0.91110</td>\n",
       "      <td>-0.73864</td>\n",
       "      <td>-1.46236</td>\n",
       "      <td>-1.25810</td>\n",
       "      <td>-0.07152</td>\n",
       "      <td>-0.30125</td>\n",
       "      <td>1.62944</td>\n",
       "      <td>1.52424</td>\n",
       "    </tr>\n",
       "    <tr>\n",
       "      <th>4</th>\n",
       "      <td>-1.05203</td>\n",
       "      <td>-0.13075</td>\n",
       "      <td>-0.76351</td>\n",
       "      <td>1.06867</td>\n",
       "      <td>5.17377</td>\n",
       "      <td>9.28503</td>\n",
       "      <td>-0.59172</td>\n",
       "      <td>0.51433</td>\n",
       "      <td>-0.60601</td>\n",
       "      <td>-0.26848</td>\n",
       "      <td>1.68950</td>\n",
       "      <td>-0.64730</td>\n",
       "      <td>0.42547</td>\n",
       "      <td>7.30790</td>\n",
       "      <td>0.53843</td>\n",
       "      <td>-0.18916</td>\n",
       "      <td>-1.46004</td>\n",
       "      <td>-1.72153</td>\n",
       "    </tr>\n",
       "  </tbody>\n",
       "</table>\n",
       "</div>"
      ],
      "text/plain": [
       "   compactness  circularity  distance_circularity  radius_ratio  \\\n",
       "0      0.16323      0.52041               0.06067       0.26497   \n",
       "1     -0.32287     -0.61912               0.12407      -0.83639   \n",
       "2      1.25697      0.84599               1.51882       1.18773   \n",
       "3     -0.07982     -0.61912              -0.00273      -0.30059   \n",
       "4     -1.05203     -0.13075              -0.76351       1.06867   \n",
       "\n",
       "   pr.axis_aspect_ratio  max.length_aspect_ratio  scatter_ratio  \\\n",
       "0               1.28325                  0.29972       -0.19852   \n",
       "1              -0.59925                  0.08578       -0.59172   \n",
       "2               0.53025                  0.29972        1.16257   \n",
       "3               0.15375                  0.08578       -0.74295   \n",
       "4               5.17377                  9.28503       -0.59172   \n",
       "\n",
       "   elongatedness  pr.axis_rectangularity  max.length_rectangularity  \\\n",
       "0        0.12965                -0.21715                    0.76631   \n",
       "1        0.51433                -0.60601                   -0.33746   \n",
       "2       -1.15264                 0.94944                    0.69733   \n",
       "3        0.64256                -0.60601                   -0.33746   \n",
       "4        0.51433                -0.60601                   -0.26848   \n",
       "\n",
       "   scaled_variance  scaled_variance.1  scaled_radius_of_gyration  \\\n",
       "0         -0.39740           -0.33901                    0.30168   \n",
       "1         -0.59003           -0.61875                   -0.50297   \n",
       "2          1.11159            1.12249                    1.41580   \n",
       "3         -0.91110           -0.73864                   -1.46236   \n",
       "4          1.68950           -0.64730                    0.42547   \n",
       "\n",
       "   scaled_radius_of_gyration.1  skewness_about  skewness_about.1  \\\n",
       "0                     -0.32119        -0.07152           0.37129   \n",
       "1                     -0.05350         0.53843           0.14711   \n",
       "2                      0.08034         1.55501          -0.41334   \n",
       "3                     -1.25810        -0.07152          -0.30125   \n",
       "4                      7.30790         0.53843          -0.18916   \n",
       "\n",
       "   skewness_about.2  hollows_ratio  \n",
       "0          -0.32181        0.17184  \n",
       "1           0.00340        0.44232  \n",
       "2          -0.15920        0.03660  \n",
       "3           1.62944        1.52424  \n",
       "4          -1.46004       -1.72153  "
      ]
     },
     "execution_count": 15,
     "metadata": {},
     "output_type": "execute_result"
    }
   ],
   "source": [
    "df_num = df.select_dtypes(include = 'number')\n",
    "\n",
    "df_num_sc = sc.fit_transform(df_num)\n",
    "df_num_sc = pd.DataFrame(df_num_sc,columns = df_num.columns)\n",
    "df_num_sc.head()"
   ]
  },
  {
   "cell_type": "markdown",
   "metadata": {
    "colab_type": "text",
    "id": "wYh90u-g_fsF"
   },
   "source": [
    "### K - Means Clustering"
   ]
  },
  {
   "cell_type": "markdown",
   "metadata": {
    "colab_type": "text",
    "id": "6UfbOSle_fsF"
   },
   "source": [
    "### 5. Assign a dummy array called distortion"
   ]
  },
  {
   "cell_type": "markdown",
   "metadata": {
    "colab_type": "text",
    "id": "zvp3u_Sr_fsG"
   },
   "source": [
    "You can later use this array to plot the elbow plot"
   ]
  },
  {
   "cell_type": "code",
   "execution_count": 17,
   "metadata": {
    "colab": {},
    "colab_type": "code",
    "id": "da4KgLpj_fsJ"
   },
   "outputs": [],
   "source": [
    "distortion = []"
   ]
  },
  {
   "cell_type": "markdown",
   "metadata": {
    "colab_type": "text",
    "id": "LddyFnZW_fsO"
   },
   "source": [
    "### 6. Calculating distortion - C distance"
   ]
  },
  {
   "cell_type": "markdown",
   "metadata": {
    "colab_type": "text",
    "id": "fwxCYkN6_fsP"
   },
   "source": [
    "Iterating values of k from 1 to 10 fit K means model\n",
    "Using c distance - Get the measure for Sum of squares error."
   ]
  },
  {
   "cell_type": "markdown",
   "metadata": {
    "colab_type": "text",
    "id": "R1NEP9ah_fsP"
   },
   "source": [
    "**Here, logically K-Means attempts to minimize distortion defined by the the sum of the squared distances between each observation and its closest centroid.**"
   ]
  },
  {
   "cell_type": "code",
   "execution_count": 18,
   "metadata": {},
   "outputs": [],
   "source": [
    "from sklearn.cluster import KMeans"
   ]
  },
  {
   "cell_type": "code",
   "execution_count": 20,
   "metadata": {
    "colab": {},
    "colab_type": "code",
    "id": "NDTS685e_fsQ"
   },
   "outputs": [
    {
     "data": {
      "text/html": [
       "<div>\n",
       "<style scoped>\n",
       "    .dataframe tbody tr th:only-of-type {\n",
       "        vertical-align: middle;\n",
       "    }\n",
       "\n",
       "    .dataframe tbody tr th {\n",
       "        vertical-align: top;\n",
       "    }\n",
       "\n",
       "    .dataframe thead th {\n",
       "        text-align: right;\n",
       "    }\n",
       "</style>\n",
       "<table border=\"1\" class=\"dataframe\">\n",
       "  <thead>\n",
       "    <tr style=\"text-align: right;\">\n",
       "      <th></th>\n",
       "      <th>Number_of_clusters</th>\n",
       "      <th>distortion</th>\n",
       "    </tr>\n",
       "  </thead>\n",
       "  <tbody>\n",
       "    <tr>\n",
       "      <th>0</th>\n",
       "      <td>1</td>\n",
       "      <td>14634.00000</td>\n",
       "    </tr>\n",
       "    <tr>\n",
       "      <th>1</th>\n",
       "      <td>2</td>\n",
       "      <td>8623.13698</td>\n",
       "    </tr>\n",
       "    <tr>\n",
       "      <th>2</th>\n",
       "      <td>3</td>\n",
       "      <td>7037.46739</td>\n",
       "    </tr>\n",
       "    <tr>\n",
       "      <th>3</th>\n",
       "      <td>4</td>\n",
       "      <td>5739.20133</td>\n",
       "    </tr>\n",
       "    <tr>\n",
       "      <th>4</th>\n",
       "      <td>5</td>\n",
       "      <td>5188.91134</td>\n",
       "    </tr>\n",
       "    <tr>\n",
       "      <th>5</th>\n",
       "      <td>6</td>\n",
       "      <td>4707.79592</td>\n",
       "    </tr>\n",
       "    <tr>\n",
       "      <th>6</th>\n",
       "      <td>7</td>\n",
       "      <td>4410.45056</td>\n",
       "    </tr>\n",
       "    <tr>\n",
       "      <th>7</th>\n",
       "      <td>8</td>\n",
       "      <td>4161.24191</td>\n",
       "    </tr>\n",
       "    <tr>\n",
       "      <th>8</th>\n",
       "      <td>9</td>\n",
       "      <td>3869.21619</td>\n",
       "    </tr>\n",
       "    <tr>\n",
       "      <th>9</th>\n",
       "      <td>10</td>\n",
       "      <td>3653.05707</td>\n",
       "    </tr>\n",
       "  </tbody>\n",
       "</table>\n",
       "</div>"
      ],
      "text/plain": [
       "   Number_of_clusters  distortion\n",
       "0                   1 14634.00000\n",
       "1                   2  8623.13698\n",
       "2                   3  7037.46739\n",
       "3                   4  5739.20133\n",
       "4                   5  5188.91134\n",
       "5                   6  4707.79592\n",
       "6                   7  4410.45056\n",
       "7                   8  4161.24191\n",
       "8                   9  3869.21619\n",
       "9                  10  3653.05707"
      ]
     },
     "execution_count": 20,
     "metadata": {},
     "output_type": "execute_result"
    }
   ],
   "source": [
    "cluster_range = range(1,11)\n",
    "distortion = []\n",
    "\n",
    "for num_clusters in cluster_range:\n",
    "    kmeans = KMeans(n_clusters=num_clusters,init='k-means++',random_state=10)\n",
    "    kmeans.fit(df_num_sc)\n",
    "    distortion.append(kmeans.inertia_)\n",
    "    \n",
    "cluster_df = pd.DataFrame({'Number_of_clusters':cluster_range, 'distortion':distortion})\n",
    "cluster_df"
   ]
  },
  {
   "cell_type": "markdown",
   "metadata": {
    "colab_type": "text",
    "id": "NdomoKhf_fsS"
   },
   "source": [
    "### 7. Plotting Elbow/ Scree Plot"
   ]
  },
  {
   "cell_type": "markdown",
   "metadata": {
    "colab_type": "text",
    "id": "ehzz3z6q_fsT"
   },
   "source": [
    "Use Matplotlib to plot the scree plot - Note: Scree plot plots distortion vs the no of clusters"
   ]
  },
  {
   "cell_type": "code",
   "execution_count": 22,
   "metadata": {
    "colab": {},
    "colab_type": "code",
    "id": "v1xh8XxP_fsU",
    "outputId": "72d4f5de-7ca3-4d04-b196-1e499aa160d5"
   },
   "outputs": [
    {
     "data": {
      "image/png": "[encoded data removed]",
      "text/plain": [
       "<Figure size 864x432 with 1 Axes>"
      ]
     },
     "metadata": {
      "needs_background": "light"
     },
     "output_type": "display_data"
    }
   ],
   "source": [
    "plt.figure(figsize=(12,6))\n",
    "plt.plot( cluster_df.Number_of_clusters, cluster_df.distortion, marker = \"o\" )\n",
    "plt.show()"
   ]
  },
  {
   "cell_type": "markdown",
   "metadata": {
    "colab_type": "text",
    "id": "w_EZbvnu_fsX"
   },
   "source": [
    "### 8. Find out the optimal value of K"
   ]
  },
  {
   "cell_type": "markdown",
   "metadata": {},
   "source": [
    "#### From the above visualization, we can see that the optimal number of clusters should be around 4 as the sum of squared errors(Inertia) tapered off. This point is known as the Elbow or Knee which tells us the optimal K value."
   ]
  },
  {
   "cell_type": "markdown",
   "metadata": {
    "colab_type": "text",
    "id": "Sc-xTeaI_fsY"
   },
   "source": [
    "### 9. Using optimal value of K - Cluster the data. \n",
    "Note: Since the data has more than 2 dimension we cannot visualize the data. As an alternative, we can observe the centroids and note how they are distributed across different dimensions"
   ]
  },
  {
   "cell_type": "code",
   "execution_count": 23,
   "metadata": {
    "colab": {},
    "colab_type": "code",
    "id": "0Eb4xoNi_fsZ"
   },
   "outputs": [],
   "source": [
    "kmeans = KMeans(n_clusters=4,init='k-means++',random_state=10)\n",
    "\n",
    "kmeans.fit(df_num_sc)\n",
    "\n",
    "y_pred_kmeans = kmeans.predict(df_num_sc)"
   ]
  },
  {
   "cell_type": "markdown",
   "metadata": {
    "colab_type": "text",
    "id": "lek8vZ_f_fsh"
   },
   "source": [
    "### 10. Store the centroids in a dataframe with column names from the original dataset given "
   ]
  },
  {
   "cell_type": "code",
   "execution_count": 26,
   "metadata": {},
   "outputs": [
    {
     "data": {
      "text/html": [
       "<div>\n",
       "<style scoped>\n",
       "    .dataframe tbody tr th:only-of-type {\n",
       "        vertical-align: middle;\n",
       "    }\n",
       "\n",
       "    .dataframe tbody tr th {\n",
       "        vertical-align: top;\n",
       "    }\n",
       "\n",
       "    .dataframe thead th {\n",
       "        text-align: right;\n",
       "    }\n",
       "</style>\n",
       "<table border=\"1\" class=\"dataframe\">\n",
       "  <thead>\n",
       "    <tr style=\"text-align: right;\">\n",
       "      <th></th>\n",
       "      <th>compactness</th>\n",
       "      <th>circularity</th>\n",
       "      <th>distance_circularity</th>\n",
       "      <th>radius_ratio</th>\n",
       "      <th>pr.axis_aspect_ratio</th>\n",
       "      <th>max.length_aspect_ratio</th>\n",
       "      <th>scatter_ratio</th>\n",
       "      <th>elongatedness</th>\n",
       "      <th>pr.axis_rectangularity</th>\n",
       "      <th>max.length_rectangularity</th>\n",
       "      <th>scaled_variance</th>\n",
       "      <th>scaled_variance.1</th>\n",
       "      <th>scaled_radius_of_gyration</th>\n",
       "      <th>scaled_radius_of_gyration.1</th>\n",
       "      <th>skewness_about</th>\n",
       "      <th>skewness_about.1</th>\n",
       "      <th>skewness_about.2</th>\n",
       "      <th>hollows_ratio</th>\n",
       "    </tr>\n",
       "  </thead>\n",
       "  <tbody>\n",
       "    <tr>\n",
       "      <th>0</th>\n",
       "      <td>-0.73302</td>\n",
       "      <td>0.07273</td>\n",
       "      <td>-0.27217</td>\n",
       "      <td>2.94768</td>\n",
       "      <td>6.83665</td>\n",
       "      <td>8.69671</td>\n",
       "      <td>-0.53501</td>\n",
       "      <td>0.46625</td>\n",
       "      <td>-0.55741</td>\n",
       "      <td>0.28341</td>\n",
       "      <td>1.69753</td>\n",
       "      <td>-0.58807</td>\n",
       "      <td>0.21270</td>\n",
       "      <td>4.96564</td>\n",
       "      <td>-0.27484</td>\n",
       "      <td>-0.23119</td>\n",
       "      <td>-0.70799</td>\n",
       "      <td>-0.45365</td>\n",
       "    </tr>\n",
       "    <tr>\n",
       "      <th>1</th>\n",
       "      <td>-0.22840</td>\n",
       "      <td>-0.57711</td>\n",
       "      <td>-0.30806</td>\n",
       "      <td>-0.04124</td>\n",
       "      <td>0.17844</td>\n",
       "      <td>-0.17370</td>\n",
       "      <td>-0.45688</td>\n",
       "      <td>0.32199</td>\n",
       "      <td>-0.48559</td>\n",
       "      <td>-0.53997</td>\n",
       "      <td>-0.42153</td>\n",
       "      <td>-0.46148</td>\n",
       "      <td>-0.60550</td>\n",
       "      <td>-0.64285</td>\n",
       "      <td>-0.06234</td>\n",
       "      <td>0.01296</td>\n",
       "      <td>0.82219</td>\n",
       "      <td>0.70538</td>\n",
       "    </tr>\n",
       "    <tr>\n",
       "      <th>2</th>\n",
       "      <td>1.15443</td>\n",
       "      <td>1.18429</td>\n",
       "      <td>1.21199</td>\n",
       "      <td>0.97332</td>\n",
       "      <td>0.09492</td>\n",
       "      <td>0.21866</td>\n",
       "      <td>1.29797</td>\n",
       "      <td>-1.21425</td>\n",
       "      <td>1.30184</td>\n",
       "      <td>1.09831</td>\n",
       "      <td>1.20590</td>\n",
       "      <td>1.30899</td>\n",
       "      <td>1.09121</td>\n",
       "      <td>-0.10788</td>\n",
       "      <td>0.16833</td>\n",
       "      <td>0.26795</td>\n",
       "      <td>0.00467</td>\n",
       "      <td>0.19033</td>\n",
       "    </tr>\n",
       "    <tr>\n",
       "      <th>3</th>\n",
       "      <td>-0.91576</td>\n",
       "      <td>-0.52240</td>\n",
       "      <td>-0.88951</td>\n",
       "      <td>-1.08773</td>\n",
       "      <td>-0.56197</td>\n",
       "      <td>-0.30002</td>\n",
       "      <td>-0.77978</td>\n",
       "      <td>0.86736</td>\n",
       "      <td>-0.74594</td>\n",
       "      <td>-0.48554</td>\n",
       "      <td>-0.80175</td>\n",
       "      <td>-0.78384</td>\n",
       "      <td>-0.39057</td>\n",
       "      <td>0.78316</td>\n",
       "      <td>-0.09024</td>\n",
       "      <td>-0.29609</td>\n",
       "      <td>-1.04775</td>\n",
       "      <td>-1.10361</td>\n",
       "    </tr>\n",
       "  </tbody>\n",
       "</table>\n",
       "</div>"
      ],
      "text/plain": [
       "   compactness  circularity  distance_circularity  radius_ratio  \\\n",
       "0     -0.73302      0.07273              -0.27217       2.94768   \n",
       "1     -0.22840     -0.57711              -0.30806      -0.04124   \n",
       "2      1.15443      1.18429               1.21199       0.97332   \n",
       "3     -0.91576     -0.52240              -0.88951      -1.08773   \n",
       "\n",
       "   pr.axis_aspect_ratio  max.length_aspect_ratio  scatter_ratio  \\\n",
       "0               6.83665                  8.69671       -0.53501   \n",
       "1               0.17844                 -0.17370       -0.45688   \n",
       "2               0.09492                  0.21866        1.29797   \n",
       "3              -0.56197                 -0.30002       -0.77978   \n",
       "\n",
       "   elongatedness  pr.axis_rectangularity  max.length_rectangularity  \\\n",
       "0        0.46625                -0.55741                    0.28341   \n",
       "1        0.32199                -0.48559                   -0.53997   \n",
       "2       -1.21425                 1.30184                    1.09831   \n",
       "3        0.86736                -0.74594                   -0.48554   \n",
       "\n",
       "   scaled_variance  scaled_variance.1  scaled_radius_of_gyration  \\\n",
       "0          1.69753           -0.58807                    0.21270   \n",
       "1         -0.42153           -0.46148                   -0.60550   \n",
       "2          1.20590            1.30899                    1.09121   \n",
       "3         -0.80175           -0.78384                   -0.39057   \n",
       "\n",
       "   scaled_radius_of_gyration.1  skewness_about  skewness_about.1  \\\n",
       "0                      4.96564        -0.27484          -0.23119   \n",
       "1                     -0.64285        -0.06234           0.01296   \n",
       "2                     -0.10788         0.16833           0.26795   \n",
       "3                      0.78316        -0.09024          -0.29609   \n",
       "\n",
       "   skewness_about.2  hollows_ratio  \n",
       "0          -0.70799       -0.45365  \n",
       "1           0.82219        0.70538  \n",
       "2           0.00467        0.19033  \n",
       "3          -1.04775       -1.10361  "
      ]
     },
     "execution_count": 26,
     "metadata": {},
     "output_type": "execute_result"
    }
   ],
   "source": [
    "# centroids for the clusters.\n",
    "\n",
    "centroids = kmeans.cluster_centers_\n",
    "\n",
    "centroids_df = pd.DataFrame(centroids,columns = df_num_sc.columns)\n",
    "centroids_df"
   ]
  },
  {
   "cell_type": "markdown",
   "metadata": {
    "colab_type": "text",
    "id": "m5AoR2Dz_fsj"
   },
   "source": [
    "Hint: Use pd.Dataframe function "
   ]
  },
  {
   "cell_type": "markdown",
   "metadata": {
    "colab_type": "text",
    "id": "QmmrKn_U_fsr"
   },
   "source": [
    "### 11. Use kmeans.labels_ function to print out the labels of the classes"
   ]
  },
  {
   "cell_type": "code",
   "execution_count": 27,
   "metadata": {
    "colab": {},
    "colab_type": "code",
    "id": "qnLKD6-j_fsr"
   },
   "outputs": [],
   "source": [
    "## creating a new dataframe only for labels and converting it into categorical variable\n",
    "\n",
    "df_labels = pd.DataFrame(kmeans.labels_, columns = ['Label'])\n",
    "df_labels['Label'] = df_labels['Label'].astype('object')"
   ]
  },
  {
   "cell_type": "markdown",
   "metadata": {},
   "source": [
    "### 12. Use kmeans.labels_ function to print out the labels of the classes"
   ]
  },
  {
   "cell_type": "code",
   "execution_count": 28,
   "metadata": {},
   "outputs": [
    {
     "data": {
      "text/html": [
       "<div>\n",
       "<style scoped>\n",
       "    .dataframe tbody tr th:only-of-type {\n",
       "        vertical-align: middle;\n",
       "    }\n",
       "\n",
       "    .dataframe tbody tr th {\n",
       "        vertical-align: top;\n",
       "    }\n",
       "\n",
       "    .dataframe thead th {\n",
       "        text-align: right;\n",
       "    }\n",
       "</style>\n",
       "<table border=\"1\" class=\"dataframe\">\n",
       "  <thead>\n",
       "    <tr style=\"text-align: right;\">\n",
       "      <th></th>\n",
       "      <th>compactness</th>\n",
       "      <th>circularity</th>\n",
       "      <th>distance_circularity</th>\n",
       "      <th>radius_ratio</th>\n",
       "      <th>pr.axis_aspect_ratio</th>\n",
       "      <th>max.length_aspect_ratio</th>\n",
       "      <th>scatter_ratio</th>\n",
       "      <th>elongatedness</th>\n",
       "      <th>pr.axis_rectangularity</th>\n",
       "      <th>max.length_rectangularity</th>\n",
       "      <th>scaled_variance</th>\n",
       "      <th>scaled_variance.1</th>\n",
       "      <th>scaled_radius_of_gyration</th>\n",
       "      <th>scaled_radius_of_gyration.1</th>\n",
       "      <th>skewness_about</th>\n",
       "      <th>skewness_about.1</th>\n",
       "      <th>skewness_about.2</th>\n",
       "      <th>hollows_ratio</th>\n",
       "      <th>class</th>\n",
       "      <th>Label</th>\n",
       "    </tr>\n",
       "  </thead>\n",
       "  <tbody>\n",
       "    <tr>\n",
       "      <th>0</th>\n",
       "      <td>95</td>\n",
       "      <td>48.00000</td>\n",
       "      <td>83.00000</td>\n",
       "      <td>178.00000</td>\n",
       "      <td>72.00000</td>\n",
       "      <td>10</td>\n",
       "      <td>162.00000</td>\n",
       "      <td>42.00000</td>\n",
       "      <td>20.00000</td>\n",
       "      <td>159</td>\n",
       "      <td>176.00000</td>\n",
       "      <td>379.00000</td>\n",
       "      <td>184.00000</td>\n",
       "      <td>70.00000</td>\n",
       "      <td>6.00000</td>\n",
       "      <td>16.00000</td>\n",
       "      <td>187.00000</td>\n",
       "      <td>197</td>\n",
       "      <td>van</td>\n",
       "      <td>1</td>\n",
       "    </tr>\n",
       "    <tr>\n",
       "      <th>1</th>\n",
       "      <td>91</td>\n",
       "      <td>41.00000</td>\n",
       "      <td>84.00000</td>\n",
       "      <td>141.00000</td>\n",
       "      <td>57.00000</td>\n",
       "      <td>9</td>\n",
       "      <td>149.00000</td>\n",
       "      <td>45.00000</td>\n",
       "      <td>19.00000</td>\n",
       "      <td>143</td>\n",
       "      <td>170.00000</td>\n",
       "      <td>330.00000</td>\n",
       "      <td>158.00000</td>\n",
       "      <td>72.00000</td>\n",
       "      <td>9.00000</td>\n",
       "      <td>14.00000</td>\n",
       "      <td>189.00000</td>\n",
       "      <td>199</td>\n",
       "      <td>van</td>\n",
       "      <td>1</td>\n",
       "    </tr>\n",
       "    <tr>\n",
       "      <th>2</th>\n",
       "      <td>104</td>\n",
       "      <td>50.00000</td>\n",
       "      <td>106.00000</td>\n",
       "      <td>209.00000</td>\n",
       "      <td>66.00000</td>\n",
       "      <td>10</td>\n",
       "      <td>207.00000</td>\n",
       "      <td>32.00000</td>\n",
       "      <td>23.00000</td>\n",
       "      <td>158</td>\n",
       "      <td>223.00000</td>\n",
       "      <td>635.00000</td>\n",
       "      <td>220.00000</td>\n",
       "      <td>73.00000</td>\n",
       "      <td>14.00000</td>\n",
       "      <td>9.00000</td>\n",
       "      <td>188.00000</td>\n",
       "      <td>196</td>\n",
       "      <td>car</td>\n",
       "      <td>2</td>\n",
       "    </tr>\n",
       "    <tr>\n",
       "      <th>3</th>\n",
       "      <td>93</td>\n",
       "      <td>41.00000</td>\n",
       "      <td>82.00000</td>\n",
       "      <td>159.00000</td>\n",
       "      <td>63.00000</td>\n",
       "      <td>9</td>\n",
       "      <td>144.00000</td>\n",
       "      <td>46.00000</td>\n",
       "      <td>19.00000</td>\n",
       "      <td>143</td>\n",
       "      <td>160.00000</td>\n",
       "      <td>309.00000</td>\n",
       "      <td>127.00000</td>\n",
       "      <td>63.00000</td>\n",
       "      <td>6.00000</td>\n",
       "      <td>10.00000</td>\n",
       "      <td>199.00000</td>\n",
       "      <td>207</td>\n",
       "      <td>van</td>\n",
       "      <td>1</td>\n",
       "    </tr>\n",
       "    <tr>\n",
       "      <th>4</th>\n",
       "      <td>85</td>\n",
       "      <td>44.00000</td>\n",
       "      <td>70.00000</td>\n",
       "      <td>205.00000</td>\n",
       "      <td>103.00000</td>\n",
       "      <td>52</td>\n",
       "      <td>149.00000</td>\n",
       "      <td>45.00000</td>\n",
       "      <td>19.00000</td>\n",
       "      <td>144</td>\n",
       "      <td>241.00000</td>\n",
       "      <td>325.00000</td>\n",
       "      <td>188.00000</td>\n",
       "      <td>127.00000</td>\n",
       "      <td>9.00000</td>\n",
       "      <td>11.00000</td>\n",
       "      <td>180.00000</td>\n",
       "      <td>183</td>\n",
       "      <td>bus</td>\n",
       "      <td>0</td>\n",
       "    </tr>\n",
       "  </tbody>\n",
       "</table>\n",
       "</div>"
      ],
      "text/plain": [
       "   compactness  circularity  distance_circularity  radius_ratio  \\\n",
       "0           95     48.00000              83.00000     178.00000   \n",
       "1           91     41.00000              84.00000     141.00000   \n",
       "2          104     50.00000             106.00000     209.00000   \n",
       "3           93     41.00000              82.00000     159.00000   \n",
       "4           85     44.00000              70.00000     205.00000   \n",
       "\n",
       "   pr.axis_aspect_ratio  max.length_aspect_ratio  scatter_ratio  \\\n",
       "0              72.00000                       10      162.00000   \n",
       "1              57.00000                        9      149.00000   \n",
       "2              66.00000                       10      207.00000   \n",
       "3              63.00000                        9      144.00000   \n",
       "4             103.00000                       52      149.00000   \n",
       "\n",
       "   elongatedness  pr.axis_rectangularity  max.length_rectangularity  \\\n",
       "0       42.00000                20.00000                        159   \n",
       "1       45.00000                19.00000                        143   \n",
       "2       32.00000                23.00000                        158   \n",
       "3       46.00000                19.00000                        143   \n",
       "4       45.00000                19.00000                        144   \n",
       "\n",
       "   scaled_variance  scaled_variance.1  scaled_radius_of_gyration  \\\n",
       "0        176.00000          379.00000                  184.00000   \n",
       "1        170.00000          330.00000                  158.00000   \n",
       "2        223.00000          635.00000                  220.00000   \n",
       "3        160.00000          309.00000                  127.00000   \n",
       "4        241.00000          325.00000                  188.00000   \n",
       "\n",
       "   scaled_radius_of_gyration.1  skewness_about  skewness_about.1  \\\n",
       "0                     70.00000         6.00000          16.00000   \n",
       "1                     72.00000         9.00000          14.00000   \n",
       "2                     73.00000        14.00000           9.00000   \n",
       "3                     63.00000         6.00000          10.00000   \n",
       "4                    127.00000         9.00000          11.00000   \n",
       "\n",
       "   skewness_about.2  hollows_ratio class Label  \n",
       "0         187.00000            197   van     1  \n",
       "1         189.00000            199   van     1  \n",
       "2         188.00000            196   car     2  \n",
       "3         199.00000            207   van     1  \n",
       "4         180.00000            183   bus     0  "
      ]
     },
     "execution_count": 28,
     "metadata": {},
     "output_type": "execute_result"
    }
   ],
   "source": [
    "# Joining the label dataframe with the original data frame to create the labelled dataframe\n",
    "\n",
    "df_k = df.join(df_labels)\n",
    "df_k.head()"
   ]
  },
  {
   "cell_type": "code",
   "execution_count": 29,
   "metadata": {},
   "outputs": [
    {
     "name": "stdout",
     "output_type": "stream",
     "text": [
      "Original Data Classes:\n",
      "car    413\n",
      "bus    205\n",
      "van    195\n",
      "Name: class, dtype: int64\n",
      "\n",
      "Percentage :\n",
      "car   50.79951\n",
      "bus   25.21525\n",
      "van   23.98524\n",
      "Name: class, dtype: float64\n",
      "------------------------------\n",
      "K-Means Classes:\n",
      "1    294\n",
      "2    247\n",
      "3    231\n",
      "0      8\n",
      "Name: Label, dtype: int64\n",
      "\n",
      "Percentage :\n",
      "1   36.16236\n",
      "2   30.38130\n",
      "3   28.41328\n",
      "0    0.98401\n",
      "Name: Label, dtype: float64\n"
     ]
    }
   ],
   "source": [
    "print('Original Data Classes:')\n",
    "print(df['class'].value_counts())\n",
    "print()\n",
    "print('Percentage :')\n",
    "print(((df['class'].value_counts())*100)/len(df))\n",
    "\n",
    "print('-' * 30)\n",
    "\n",
    "print('K-Means Classes:')\n",
    "print(df_k['Label'].value_counts())\n",
    "print()\n",
    "print('Percentage :')\n",
    "print(((df_k['Label'].value_counts())*100)/len(df_k['Label']))"
   ]
  }
 ],
 "metadata": {
  "colab": {
   "name": "R4_Internal_Lab_Clustering_SampleSolution.ipynb",
   "provenance": [],
   "version": "0.3.2"
  },
  "kernelspec": {
   "display_name": "Python 3",
   "language": "python",
   "name": "python3"
  },
  "language_info": {
   "codemirror_mode": {
    "name": "ipython",
    "version": 3
   },
   "file_extension": ".py",
   "mimetype": "text/x-python",
   "name": "python",
   "nbconvert_exporter": "python",
   "pygments_lexer": "ipython3",
   "version": "3.8.8"
  }
 },
 "nbformat": 4,
 "nbformat_minor": 1
}
